{
 "cells": [
  {
   "cell_type": "markdown",
   "metadata": {
    "id": "CcUT6Fon_qRE"
   },
   "source": [
    "### Required Assignment 5.1: Will the Customer Accept the Coupon?\n",
    "\n",
    "**Context**\n",
    "\n",
    "Imagine driving through town and a coupon is delivered to your cell phone for a restaurant near where you are driving. Would you accept that coupon and take a short detour to the restaurant? Would you accept the coupon but use it on a subsequent trip? Would you ignore the coupon entirely? What if the coupon was for a bar instead of a restaurant? What about a coffee house? Would you accept a bar coupon with a minor passenger in the car? What about if it was just you and your partner in the car? Would weather impact the rate of acceptance? What about the time of day?\n",
    "\n",
    "Obviously, proximity to the business is a factor on whether the coupon is delivered to the driver or not, but what are the factors that determine whether a driver accepts the coupon once it is delivered to them? How would you determine whether a driver is likely to accept a coupon?\n",
    "\n",
    "**Overview**\n",
    "\n",
    "The goal of this project is to use what you know about visualizations and probability distributions to distinguish between customers who accepted a driving coupon versus those that did not.\n",
    "\n",
    "**Data**\n",
    "\n",
    "This data comes to us from the UCI Machine Learning repository and was collected via a survey on Amazon Mechanical Turk. The survey describes different driving scenarios including the destination, current time, weather, passenger, etc., and then ask the person whether he will accept the coupon if he is the driver. Answers that the user will drive there ‘right away’ or ‘later before the coupon expires’ are labeled as ‘Y = 1’ and answers ‘no, I do not want the coupon’ are labeled as ‘Y = 0’.  There are five different types of coupons -- less expensive restaurants (under \\$20), coffee houses, carry out & take away, bar, and more expensive restaurants (\\$20 - $50)."
   ]
  },
  {
   "cell_type": "markdown",
   "metadata": {
    "id": "1wORvMBJ_qRF"
   },
   "source": [
    "**Deliverables**\n",
    "\n",
    "Your final product should be a brief report that highlights the differences between customers who did and did not accept the coupons.  To explore the data you will utilize your knowledge of plotting, statistical summaries, and visualization using Python. You will publish your findings in a public facing github repository as your first portfolio piece.\n",
    "\n",
    "\n",
    "\n"
   ]
  },
  {
   "cell_type": "markdown",
   "metadata": {
    "id": "pG6_Ym6q_qRG"
   },
   "source": [
    "### Data Description\n",
    "Keep in mind that these values mentioned below are average values.\n",
    "\n",
    "The attributes of this data set include:\n",
    "1. User attributes\n",
    "    -  Gender: male, female\n",
    "    -  Age: below 21, 21 to 25, 26 to 30, etc.\n",
    "    -  Marital Status: single, married partner, unmarried partner, or widowed\n",
    "    -  Number of children: 0, 1, or more than 1\n",
    "    -  Education: high school, bachelors degree, associates degree, or graduate degree\n",
    "    -  Occupation: architecture & engineering, business & financial, etc.\n",
    "    -  Annual income: less than \\\\$12500, \\\\$12500 - \\\\$24999, \\\\$25000 - \\\\$37499, etc.\n",
    "    -  Number of times that he/she goes to a bar: 0, less than 1, 1 to 3, 4 to 8 or greater than 8\n",
    "    -  Number of times that he/she buys takeaway food: 0, less than 1, 1 to 3, 4 to 8 or greater\n",
    "    than 8\n",
    "    -  Number of times that he/she goes to a coffee house: 0, less than 1, 1 to 3, 4 to 8 or\n",
    "    greater than 8\n",
    "    -  Number of times that he/she eats at a restaurant with average expense less than \\\\$20 per\n",
    "    person: 0, less than 1, 1 to 3, 4 to 8 or greater than 8\n",
    "    -  Number of times that he/she goes to a bar: 0, less than 1, 1 to 3, 4 to 8 or greater than 8\n",
    "    \n",
    "\n",
    "2. Contextual attributes\n",
    "    - Driving destination: home, work, or no urgent destination\n",
    "    - Location of user, coupon and destination: we provide a map to show the geographical\n",
    "    location of the user, destination, and the venue, and we mark the distance between each\n",
    "    two places with time of driving. The user can see whether the venue is in the same\n",
    "    direction as the destination.\n",
    "    - Weather: sunny, rainy, or snowy\n",
    "    - Temperature: 30F, 55F, or 80F\n",
    "    - Time: 10AM, 2PM, or 6PM\n",
    "    - Passenger: alone, partner, kid(s), or friend(s)\n",
    "\n",
    "\n",
    "3. Coupon attributes\n",
    "    - time before it expires: 2 hours or one day"
   ]
  },
  {
   "cell_type": "code",
   "execution_count": 4,
   "metadata": {
    "id": "dzNoP3o__qRG"
   },
   "outputs": [],
   "source": [
    "import matplotlib.pyplot as plt\n",
    "import seaborn as sns\n",
    "import pandas as pd\n",
    "import numpy as np"
   ]
  },
  {
   "cell_type": "markdown",
   "metadata": {
    "id": "Ct8pI1uE_qRG"
   },
   "source": [
    "### Problems\n",
    "\n",
    "Use the prompts below to get started with your data analysis.  \n",
    "\n",
    "1. Read in the `coupons.csv` file.\n",
    "\n",
    "\n"
   ]
  },
  {
   "cell_type": "code",
   "execution_count": 6,
   "metadata": {
    "id": "X0vbffYg_qRH"
   },
   "outputs": [],
   "source": [
    "data = pd.read_csv('data/coupons.csv')"
   ]
  },
  {
   "cell_type": "code",
   "execution_count": 8,
   "metadata": {
    "id": "TXofQ_DF_qRH",
    "outputId": "2fc96a2c-1112-4b54-f24f-dbb9bc88abfb"
   },
   "outputs": [
    {
     "data": {
      "text/html": [
       "<div>\n",
       "<style scoped>\n",
       "    .dataframe tbody tr th:only-of-type {\n",
       "        vertical-align: middle;\n",
       "    }\n",
       "\n",
       "    .dataframe tbody tr th {\n",
       "        vertical-align: top;\n",
       "    }\n",
       "\n",
       "    .dataframe thead th {\n",
       "        text-align: right;\n",
       "    }\n",
       "</style>\n",
       "<table border=\"1\" class=\"dataframe\">\n",
       "  <thead>\n",
       "    <tr style=\"text-align: right;\">\n",
       "      <th></th>\n",
       "      <th>destination</th>\n",
       "      <th>passanger</th>\n",
       "      <th>weather</th>\n",
       "      <th>temperature</th>\n",
       "      <th>time</th>\n",
       "      <th>coupon</th>\n",
       "      <th>expiration</th>\n",
       "      <th>gender</th>\n",
       "      <th>age</th>\n",
       "      <th>maritalStatus</th>\n",
       "      <th>...</th>\n",
       "      <th>CoffeeHouse</th>\n",
       "      <th>CarryAway</th>\n",
       "      <th>RestaurantLessThan20</th>\n",
       "      <th>Restaurant20To50</th>\n",
       "      <th>toCoupon_GEQ5min</th>\n",
       "      <th>toCoupon_GEQ15min</th>\n",
       "      <th>toCoupon_GEQ25min</th>\n",
       "      <th>direction_same</th>\n",
       "      <th>direction_opp</th>\n",
       "      <th>Y</th>\n",
       "    </tr>\n",
       "  </thead>\n",
       "  <tbody>\n",
       "    <tr>\n",
       "      <th>0</th>\n",
       "      <td>No Urgent Place</td>\n",
       "      <td>Alone</td>\n",
       "      <td>Sunny</td>\n",
       "      <td>55</td>\n",
       "      <td>2PM</td>\n",
       "      <td>Restaurant(&lt;20)</td>\n",
       "      <td>1d</td>\n",
       "      <td>Female</td>\n",
       "      <td>21</td>\n",
       "      <td>Unmarried partner</td>\n",
       "      <td>...</td>\n",
       "      <td>never</td>\n",
       "      <td>NaN</td>\n",
       "      <td>4~8</td>\n",
       "      <td>1~3</td>\n",
       "      <td>1</td>\n",
       "      <td>0</td>\n",
       "      <td>0</td>\n",
       "      <td>0</td>\n",
       "      <td>1</td>\n",
       "      <td>1</td>\n",
       "    </tr>\n",
       "    <tr>\n",
       "      <th>1</th>\n",
       "      <td>No Urgent Place</td>\n",
       "      <td>Friend(s)</td>\n",
       "      <td>Sunny</td>\n",
       "      <td>80</td>\n",
       "      <td>10AM</td>\n",
       "      <td>Coffee House</td>\n",
       "      <td>2h</td>\n",
       "      <td>Female</td>\n",
       "      <td>21</td>\n",
       "      <td>Unmarried partner</td>\n",
       "      <td>...</td>\n",
       "      <td>never</td>\n",
       "      <td>NaN</td>\n",
       "      <td>4~8</td>\n",
       "      <td>1~3</td>\n",
       "      <td>1</td>\n",
       "      <td>0</td>\n",
       "      <td>0</td>\n",
       "      <td>0</td>\n",
       "      <td>1</td>\n",
       "      <td>0</td>\n",
       "    </tr>\n",
       "    <tr>\n",
       "      <th>2</th>\n",
       "      <td>No Urgent Place</td>\n",
       "      <td>Friend(s)</td>\n",
       "      <td>Sunny</td>\n",
       "      <td>80</td>\n",
       "      <td>10AM</td>\n",
       "      <td>Carry out &amp; Take away</td>\n",
       "      <td>2h</td>\n",
       "      <td>Female</td>\n",
       "      <td>21</td>\n",
       "      <td>Unmarried partner</td>\n",
       "      <td>...</td>\n",
       "      <td>never</td>\n",
       "      <td>NaN</td>\n",
       "      <td>4~8</td>\n",
       "      <td>1~3</td>\n",
       "      <td>1</td>\n",
       "      <td>1</td>\n",
       "      <td>0</td>\n",
       "      <td>0</td>\n",
       "      <td>1</td>\n",
       "      <td>1</td>\n",
       "    </tr>\n",
       "    <tr>\n",
       "      <th>3</th>\n",
       "      <td>No Urgent Place</td>\n",
       "      <td>Friend(s)</td>\n",
       "      <td>Sunny</td>\n",
       "      <td>80</td>\n",
       "      <td>2PM</td>\n",
       "      <td>Coffee House</td>\n",
       "      <td>2h</td>\n",
       "      <td>Female</td>\n",
       "      <td>21</td>\n",
       "      <td>Unmarried partner</td>\n",
       "      <td>...</td>\n",
       "      <td>never</td>\n",
       "      <td>NaN</td>\n",
       "      <td>4~8</td>\n",
       "      <td>1~3</td>\n",
       "      <td>1</td>\n",
       "      <td>1</td>\n",
       "      <td>0</td>\n",
       "      <td>0</td>\n",
       "      <td>1</td>\n",
       "      <td>0</td>\n",
       "    </tr>\n",
       "    <tr>\n",
       "      <th>4</th>\n",
       "      <td>No Urgent Place</td>\n",
       "      <td>Friend(s)</td>\n",
       "      <td>Sunny</td>\n",
       "      <td>80</td>\n",
       "      <td>2PM</td>\n",
       "      <td>Coffee House</td>\n",
       "      <td>1d</td>\n",
       "      <td>Female</td>\n",
       "      <td>21</td>\n",
       "      <td>Unmarried partner</td>\n",
       "      <td>...</td>\n",
       "      <td>never</td>\n",
       "      <td>NaN</td>\n",
       "      <td>4~8</td>\n",
       "      <td>1~3</td>\n",
       "      <td>1</td>\n",
       "      <td>1</td>\n",
       "      <td>0</td>\n",
       "      <td>0</td>\n",
       "      <td>1</td>\n",
       "      <td>0</td>\n",
       "    </tr>\n",
       "  </tbody>\n",
       "</table>\n",
       "<p>5 rows × 26 columns</p>\n",
       "</div>"
      ],
      "text/plain": [
       "       destination  passanger weather  temperature  time  \\\n",
       "0  No Urgent Place      Alone   Sunny           55   2PM   \n",
       "1  No Urgent Place  Friend(s)   Sunny           80  10AM   \n",
       "2  No Urgent Place  Friend(s)   Sunny           80  10AM   \n",
       "3  No Urgent Place  Friend(s)   Sunny           80   2PM   \n",
       "4  No Urgent Place  Friend(s)   Sunny           80   2PM   \n",
       "\n",
       "                  coupon expiration  gender age      maritalStatus  ...  \\\n",
       "0        Restaurant(<20)         1d  Female  21  Unmarried partner  ...   \n",
       "1           Coffee House         2h  Female  21  Unmarried partner  ...   \n",
       "2  Carry out & Take away         2h  Female  21  Unmarried partner  ...   \n",
       "3           Coffee House         2h  Female  21  Unmarried partner  ...   \n",
       "4           Coffee House         1d  Female  21  Unmarried partner  ...   \n",
       "\n",
       "   CoffeeHouse CarryAway RestaurantLessThan20 Restaurant20To50  \\\n",
       "0        never       NaN                  4~8              1~3   \n",
       "1        never       NaN                  4~8              1~3   \n",
       "2        never       NaN                  4~8              1~3   \n",
       "3        never       NaN                  4~8              1~3   \n",
       "4        never       NaN                  4~8              1~3   \n",
       "\n",
       "  toCoupon_GEQ5min toCoupon_GEQ15min toCoupon_GEQ25min direction_same  \\\n",
       "0                1                 0                 0              0   \n",
       "1                1                 0                 0              0   \n",
       "2                1                 1                 0              0   \n",
       "3                1                 1                 0              0   \n",
       "4                1                 1                 0              0   \n",
       "\n",
       "  direction_opp  Y  \n",
       "0             1  1  \n",
       "1             1  0  \n",
       "2             1  1  \n",
       "3             1  0  \n",
       "4             1  0  \n",
       "\n",
       "[5 rows x 26 columns]"
      ]
     },
     "execution_count": 8,
     "metadata": {},
     "output_type": "execute_result"
    }
   ],
   "source": [
    "data.head()\n",
    "\n"
   ]
  },
  {
   "cell_type": "markdown",
   "metadata": {
    "id": "GcDs78ZH_qRH"
   },
   "source": [
    "2. Investigate the dataset for missing or problematic data."
   ]
  },
  {
   "cell_type": "code",
   "execution_count": 11,
   "metadata": {
    "id": "6CwL6oWj_qRH"
   },
   "outputs": [
    {
     "name": "stdout",
     "output_type": "stream",
     "text": [
      "destination                 0\n",
      "passanger                   0\n",
      "weather                     0\n",
      "temperature                 0\n",
      "time                        0\n",
      "coupon                      0\n",
      "expiration                  0\n",
      "gender                      0\n",
      "age                         0\n",
      "maritalStatus               0\n",
      "has_children                0\n",
      "education                   0\n",
      "occupation                  0\n",
      "income                      0\n",
      "car                     12576\n",
      "Bar                       107\n",
      "CoffeeHouse               217\n",
      "CarryAway                 151\n",
      "RestaurantLessThan20      130\n",
      "Restaurant20To50          189\n",
      "toCoupon_GEQ5min            0\n",
      "toCoupon_GEQ15min           0\n",
      "toCoupon_GEQ25min           0\n",
      "direction_same              0\n",
      "direction_opp               0\n",
      "Y                           0\n",
      "dtype: int64\n"
     ]
    }
   ],
   "source": [
    "#Check the count of the each feature with null value for the data cleanup\n",
    "print(data.isnull().sum())"
   ]
  },
  {
   "cell_type": "markdown",
   "metadata": {
    "id": "bSdVSpYB_qRH"
   },
   "source": [
    "3. Decide what to do about your missing data -- drop, replace, other..."
   ]
  },
  {
   "cell_type": "code",
   "execution_count": 470,
   "metadata": {
    "id": "tyvoAC5F_qRI"
   },
   "outputs": [],
   "source": [
    "#Replacing all null with 'noValue'\n",
    "data['car'] = data['car'].fillna('noValue')\n",
    "data['Bar'] = data['Bar'].fillna('noValue')\n",
    "data['CoffeeHouse'] = data['CoffeeHouse'].fillna('noValue')\n",
    "data['CarryAway'] = data['CarryAway'].fillna('noValue')\n",
    "data['RestaurantLessThan20'] = data['RestaurantLessThan20'].fillna('noValue')\n",
    "data['Restaurant20To50'] = data['Restaurant20To50'].fillna('noValue')"
   ]
  },
  {
   "cell_type": "markdown",
   "metadata": {
    "id": "YE6oJbXd_qRI"
   },
   "source": [
    "4. What proportion of the total observations chose to accept the coupon?\n",
    "\n"
   ]
  },
  {
   "cell_type": "code",
   "execution_count": 472,
   "metadata": {
    "id": "86GGqBTv_qRI"
   },
   "outputs": [
    {
     "name": "stdout",
     "output_type": "stream",
     "text": [
      "Coupon acceptance percentage = 56.84%\n"
     ]
    }
   ],
   "source": [
    "coupon_acceptance = data['Y'].mean()*100\n",
    "print(f'Coupon acceptance percentage = {coupon_acceptance:.2f}%')\n"
   ]
  },
  {
   "cell_type": "markdown",
   "metadata": {
    "id": "vflz0DoE_qRI"
   },
   "source": [
    "5. Use a bar plot to visualize the `coupon` column."
   ]
  },
  {
   "cell_type": "code",
   "execution_count": 474,
   "metadata": {
    "id": "dHFh3E45_qRI"
   },
   "outputs": [
    {
     "data": {
      "image/png": "[encoded data removed]",
      "text/plain": [
       "<Figure size 800x500 with 1 Axes>"
      ]
     },
     "metadata": {},
     "output_type": "display_data"
    }
   ],
   "source": [
    "import seaborn as sns\n",
    "import matplotlib.pyplot as plt\n",
    "\n",
    "# Count the occurrences of 0 and 1 in the 'Y' column\n",
    "coupon_counts = data['Y'].value_counts()\n",
    "\n",
    "# Filter only accepted coupons (Y == 1)\n",
    "accepted_data = data[data['Y'] == 1]\n",
    "\n",
    "plt.figure(figsize=(8, 5))\n",
    "sns.barplot(x='coupon', y='Y', data=data, color='teal')\n",
    "\n",
    "plt.title('Coupon Acceptance Rate by Type')\n",
    "plt.xlabel('Coupon Type')\n",
    "plt.ylabel('Acceptance Rate')\n",
    "# because acceptance rate is between 0 and 1\n",
    "plt.ylim(0, 1)  \n",
    "plt.xticks(rotation=45)\n",
    "plt.tight_layout()\n",
    "plt.show()\n"
   ]
  },
  {
   "cell_type": "markdown",
   "metadata": {
    "id": "Qw4lCyx2_qRI"
   },
   "source": [
    "6. Use a histogram to visualize the temperature column."
   ]
  },
  {
   "cell_type": "code",
   "execution_count": 476,
   "metadata": {
    "id": "Yg9Anv71_qRI"
   },
   "outputs": [
    {
     "data": {
      "image/png": "[encoded data removed]",
      "text/plain": [
       "<Figure size 640x480 with 1 Axes>"
      ]
     },
     "metadata": {},
     "output_type": "display_data"
    }
   ],
   "source": [
    "import seaborn as sns\n",
    "import matplotlib.pyplot as plt\n",
    "\n",
    "# Create a histogram for the 'temperature' column\n",
    "sns.histplot(data['temperature'], kde='true', color='teal')\n",
    "\n",
    "# Customize the plot\n",
    "plt.title('Temperature Distribution')\n",
    "plt.xlabel('Temperature in F')\n",
    "plt.ylabel('Frequency')\n",
    "plt.show()"
   ]
  },
  {
   "cell_type": "markdown",
   "metadata": {
    "id": "FupfgeJk_qRJ"
   },
   "source": [
    "**Investigating the Bar Coupons**\n",
    "\n",
    "Now, we will lead you through an exploration of just the bar related coupons.  \n",
    "\n",
    "1. Create a new `DataFrame` that contains just the bar coupons.\n"
   ]
  },
  {
   "cell_type": "code",
   "execution_count": 141,
   "metadata": {
    "id": "tMBlWuGq_qRJ"
   },
   "outputs": [
    {
     "data": {
      "text/html": [
       "<div>\n",
       "<style scoped>\n",
       "    .dataframe tbody tr th:only-of-type {\n",
       "        vertical-align: middle;\n",
       "    }\n",
       "\n",
       "    .dataframe tbody tr th {\n",
       "        vertical-align: top;\n",
       "    }\n",
       "\n",
       "    .dataframe thead th {\n",
       "        text-align: right;\n",
       "    }\n",
       "</style>\n",
       "<table border=\"1\" class=\"dataframe\">\n",
       "  <thead>\n",
       "    <tr style=\"text-align: right;\">\n",
       "      <th></th>\n",
       "      <th>destination</th>\n",
       "      <th>passanger</th>\n",
       "      <th>weather</th>\n",
       "      <th>temperature</th>\n",
       "      <th>time</th>\n",
       "      <th>coupon</th>\n",
       "      <th>expiration</th>\n",
       "      <th>gender</th>\n",
       "      <th>age</th>\n",
       "      <th>maritalStatus</th>\n",
       "      <th>...</th>\n",
       "      <th>CoffeeHouse</th>\n",
       "      <th>CarryAway</th>\n",
       "      <th>RestaurantLessThan20</th>\n",
       "      <th>Restaurant20To50</th>\n",
       "      <th>toCoupon_GEQ5min</th>\n",
       "      <th>toCoupon_GEQ15min</th>\n",
       "      <th>toCoupon_GEQ25min</th>\n",
       "      <th>direction_same</th>\n",
       "      <th>direction_opp</th>\n",
       "      <th>Y</th>\n",
       "    </tr>\n",
       "  </thead>\n",
       "  <tbody>\n",
       "    <tr>\n",
       "      <th>12237</th>\n",
       "      <td>Work</td>\n",
       "      <td>Alone</td>\n",
       "      <td>Snowy</td>\n",
       "      <td>30</td>\n",
       "      <td>7AM</td>\n",
       "      <td>Bar</td>\n",
       "      <td>1d</td>\n",
       "      <td>Female</td>\n",
       "      <td>21</td>\n",
       "      <td>Married partner</td>\n",
       "      <td>...</td>\n",
       "      <td>1~3</td>\n",
       "      <td>1~3</td>\n",
       "      <td>1~3</td>\n",
       "      <td>less1</td>\n",
       "      <td>1</td>\n",
       "      <td>1</td>\n",
       "      <td>1</td>\n",
       "      <td>0</td>\n",
       "      <td>1</td>\n",
       "      <td>0</td>\n",
       "    </tr>\n",
       "  </tbody>\n",
       "</table>\n",
       "<p>1 rows × 26 columns</p>\n",
       "</div>"
      ],
      "text/plain": [
       "      destination passanger weather  temperature time coupon expiration  \\\n",
       "12237        Work     Alone   Snowy           30  7AM    Bar         1d   \n",
       "\n",
       "       gender age    maritalStatus  ...  CoffeeHouse CarryAway  \\\n",
       "12237  Female  21  Married partner  ...          1~3       1~3   \n",
       "\n",
       "      RestaurantLessThan20 Restaurant20To50 toCoupon_GEQ5min  \\\n",
       "12237                  1~3            less1                1   \n",
       "\n",
       "      toCoupon_GEQ15min toCoupon_GEQ25min direction_same direction_opp  Y  \n",
       "12237                 1                 1              0             1  0  \n",
       "\n",
       "[1 rows x 26 columns]"
      ]
     },
     "execution_count": 141,
     "metadata": {},
     "output_type": "execute_result"
    }
   ],
   "source": [
    "# Filtering just the Bar coupon from the feature.\n",
    "bar_coupon_data = data.query('coupon == \"Bar\"')\n",
    "\n",
    "# Display the new DataFrame\n",
    "bar_coupon_data.sample()"
   ]
  },
  {
   "cell_type": "markdown",
   "metadata": {
    "id": "8ue6uCqf_qRJ"
   },
   "source": [
    "2. What proportion of bar coupons were accepted?\n"
   ]
  },
  {
   "cell_type": "code",
   "execution_count": 139,
   "metadata": {
    "id": "hSdte8Mi_qRK"
   },
   "outputs": [
    {
     "name": "stdout",
     "output_type": "stream",
     "text": [
      "Bar coupon acceptance rate: \u001b[1m\u001b[32m41.00%\u001b[0m\n"
     ]
    }
   ],
   "source": [
    "#Exploring below library to beautify the output with font color and bold etc.\n",
    "from colorama import Fore, Style\n",
    "\n",
    "# Extract the Bar coupon data frame .\n",
    "bar_coupon_data = data.query('coupon == \"Bar\"')\n",
    "\n",
    "# Calculate the mean for the Bar coupon acceptance.\n",
    "bar_coupon_acceptance_mean = bar_coupon_data['Y'].mean()\n",
    "\n",
    "# Convert the above mean to percentage\n",
    "bar_coupon_acceptance_proportion = bar_coupon_acceptance_mean * 100\n",
    "\n",
    "#Below string function f formats the percentage with 2 decimal precision .\n",
    "\n",
    "print(f\"Bar coupon acceptance rate: {Style.BRIGHT}{Fore.GREEN}{bar_coupon_acceptance_proportion:.2f}%{Style.RESET_ALL}\")\n"
   ]
  },
  {
   "cell_type": "markdown",
   "metadata": {
    "id": "85nA_iEi_qRK"
   },
   "source": [
    "3. Compare the acceptance rate between those who went to a bar 3 or fewer times a month to those who went more.\n"
   ]
  },
  {
   "cell_type": "code",
   "execution_count": 300,
   "metadata": {
    "id": "LBOrN-XM_qRK"
   },
   "outputs": [
    {
     "name": "stdout",
     "output_type": "stream",
     "text": [
      "Acceptance rate for those who went to a bar <=3 times per month : \u001b[1m\u001b[31m62.19%\u001b[0m\n",
      "Acceptance rate for those who went to a bar >3  per month : \u001b[1m\u001b[34m62.25%\u001b[0m\n"
     ]
    }
   ],
   "source": [
    "# People who went to a bar <=3 times / month \n",
    "data_bar_less_thn_eq_3 = data.query('Bar == \"1~3\"')\n",
    "#print(\"Unique value in Bar feature = \",data_bar_less_thn_eq_3['Bar'].unique())\n",
    "\n",
    "# People who went to a bar > 3 / month\n",
    "data_bar_gt3= data.query('(Bar == \"4~8\") or (Bar == \"gt8\")')\n",
    "#print(\"Unique value in Bar feature = \",data_bar_gt3['Bar'].unique())\n",
    "\n",
    "# Coupon acceptance rate for people who went to a bar <=3 times / month \n",
    "rate_bar_less_than_eq_3 = data_bar_less_thn_eq_3['Y'].mean()\n",
    "\n",
    "# Coupon acceptance rate for people who went to a bar > 3 / month\n",
    "rate_bar_gt3 = data_bar_gt3['Y'].mean()\n",
    "\n",
    "# Convert the above means to percentage\n",
    "percentage_bar_less_than_eq_3 = rate_bar_less_than_eq_3*100\n",
    "percentage_bar_gt3            = rate_bar_gt3*100\n",
    "\n",
    "print(f\"Acceptance rate for those who went to a bar <=3 times per month : {Style.BRIGHT}{Fore.RED}{percentage_bar_less_than_eq_3:.2f}%{Style.RESET_ALL}\")\n",
    "print(f\"Acceptance rate for those who went to a bar >3  per month : {Style.BRIGHT}{Fore.BLUE}{percentage_bar_gt3:.2f}%{Style.RESET_ALL}\")"
   ]
  },
  {
   "cell_type": "markdown",
   "metadata": {
    "id": "RBgcQwH4_qRK"
   },
   "source": [
    "4. Compare the acceptance rate between drivers who go to a bar more than once a month and are over the age of 25 to the all others.  Is there a difference?\n"
   ]
  },
  {
   "cell_type": "code",
   "execution_count": 248,
   "metadata": {
    "id": "bf28bbeX_qRK"
   },
   "outputs": [
    {
     "name": "stdout",
     "output_type": "stream",
     "text": [
      "Acceptance rate for those who went to  Bar  >1 and age > 25 : \u001b[1m\u001b[31m62.15%\u001b[0m\n",
      "Acceptance rate for Others  : \u001b[1m\u001b[34m55.35%\u001b[0m\n"
     ]
    }
   ],
   "source": [
    "#Exploring below library to beautify the output with font color and bold etc.\n",
    "from colorama import Fore, Style\n",
    "\n",
    "# Replace 50plus to 51 & below21 to 20 for integer comparision.\n",
    "data['age'] = data['age'].replace('50plus', 51)\n",
    "data['age'] = data['age'].replace('below21', 20)\n",
    "\n",
    "# age is string object , change it to integer for int comparision > 25\n",
    "data['age'] = data['age'].astype(int)\n",
    "\n",
    "# Bar visit >1 and age > 25 \n",
    "data_bar_gt_1_age_gt_25 = data.query('((Bar == \"4~8\") or (Bar == \"gt8\") or (Bar == \"1~3\")) and (age > 25 )')\n",
    "\n",
    "# All others ==> NOT in set (Bar visit >1 and age > 25 )\n",
    "data_others = data[~data.index.isin(data_bar_gt_1_age_gt_25.index)]\n",
    "\n",
    "#Calculate mean of Bar visit >1 and age > 25 & others\n",
    "mean_data_bar_gt_1_age_gt_25 = data_bar_gt_1_age_gt_25['Y'].mean()\n",
    "mean_data_others = data_others['Y'].mean()\n",
    "\n",
    "#Calculate percentage\n",
    "percentage_data_bar_gt_1_age_gt_25 = mean_data_bar_gt_1_age_gt_25*100\n",
    "percentage_data_others = mean_data_others*100\n",
    "\n",
    "print(f\"Acceptance rate for those who went to  Bar  >1 and age > 25 : {Style.BRIGHT}{Fore.RED}{percentage_data_bar_gt_1_age_gt_25:.2f}%{Style.RESET_ALL}\")\n",
    "print(f\"Acceptance rate for Others  : {Style.BRIGHT}{Fore.BLUE}{percentage_data_others:.2f}%{Style.RESET_ALL}\")\n"
   ]
  },
  {
   "cell_type": "markdown",
   "metadata": {
    "id": "S4RKT4PJ_qRK"
   },
   "source": [
    "5. Use the same process to compare the acceptance rate between drivers who go to bars more than once a month and had passengers that were not a kid and had occupations other than farming, fishing, or forestry.\n"
   ]
  },
  {
   "cell_type": "code",
   "execution_count": 260,
   "metadata": {
    "id": "sENaI2Tg_qRK"
   },
   "outputs": [
    {
     "name": "stdout",
     "output_type": "stream",
     "text": [
      "Acceptance rate for Bar visit >1 and passenger != kids and occupation != (farming, fishing, or forestry) : \u001b[1m\u001b[31m62.31%\u001b[0m\n",
      "Acceptance rate for All others ==> NOT in set (Bar visit >1 and passenger != kids and occupation != (farming, fishing, or forestry))  : \u001b[1m\u001b[34m54.60%\u001b[0m\n"
     ]
    }
   ],
   "source": [
    "#Exploring below library to beautify the output with font color and bold etc.\n",
    "from colorama import Fore, Style\n",
    "\n",
    "# Bar visit >1 and passenger != kids and occupation != (farming, fishing, or forestry)\n",
    "data_set1 = data.query('((Bar == \"4~8\") or (Bar == \"gt8\") or (Bar == \"1~3\")) and (passanger != \"Kid(s)\") and (occupation != \"Farming Fishing & Forestry\")')\n",
    "\n",
    "\n",
    "# All others ==> NOT in set (Bar visit >1 and passenger != kids and occupation != (farming, fishing, or forestry))\n",
    "data_set2 = data[~data.index.isin(data_set1.index)]\n",
    "\n",
    "\n",
    "#Calculate mean of data_set1 & data_set2\n",
    "mean_data_set1 = data_set1['Y'].mean()\n",
    "mean_data_set2 = data_set2['Y'].mean()\n",
    "\n",
    "#Calculate percentage\n",
    "percentage_mean_data_set1 = mean_data_set1*100\n",
    "percentage_mean_data_set2 = mean_data_set2*100\n",
    "\n",
    "print(f\"Acceptance rate for Bar visit >1 and passenger != kids and occupation != (farming, fishing, or forestry) : {Style.BRIGHT}{Fore.RED}{percentage_mean_data_set1:.2f}%{Style.RESET_ALL}\")\n",
    "print(f\"Acceptance rate for All others ==> NOT in set (Bar visit >1 and passenger != kids and occupation != (farming, fishing, or forestry))  : {Style.BRIGHT}{Fore.BLUE}{percentage_mean_data_set2:.2f}%{Style.RESET_ALL}\")"
   ]
  },
  {
   "cell_type": "markdown",
   "metadata": {
    "id": "n2LIUTil_qRK"
   },
   "source": [
    "6. Compare the acceptance rates between those drivers who:\n",
    "\n",
    "- go to bars more than once a month, had passengers that were not a kid, and were not widowed *OR*\n",
    "- go to bars more than once a month and are under the age of 30 *OR*\n",
    "- go to cheap restaurants more than 4 times a month and income is less than 50K.\n",
    "\n"
   ]
  },
  {
   "cell_type": "code",
   "execution_count": 276,
   "metadata": {
    "id": "aK_wEzx7_qRK"
   },
   "outputs": [
    {
     "name": "stdout",
     "output_type": "stream",
     "text": [
      "Acceptance rate for data_set1  : \u001b[1m\u001b[31m60.31%\u001b[0m\n",
      "Acceptance rate for All others  : \u001b[1m\u001b[34m54.79%\u001b[0m\n"
     ]
    }
   ],
   "source": [
    "#Exploring below library to beautify the output with font color and bold etc.\n",
    "from colorama import Fore, Style\n",
    "\n",
    "# < 50k strings in income feature\n",
    "less_than_50k  = ['$37500 - $49999', '$12500 - $24999','Less than $12500','$25000 - $37499']\n",
    "# go to bars more than once a month, had passengers that were not a kid, and were not widowed OR\n",
    "# go to bars more than once a month and are under the age of 30 OR\n",
    "# go to cheap restaurants more than 4 times a month and income is less than 50K.\n",
    "\n",
    "# Form the query as a string\n",
    "query_str1 = '((Bar == \"4~8\") or (Bar == \"gt8\") or (Bar == \"1~3\")) and (passanger != \"Kid(s)\") and (maritalStatus != \"Widowed\")'\n",
    "query_str2 = ' or ((Bar == \"4~8\") or (Bar == \"gt8\") or (Bar == \"1~3\")) and (age < 30)'\n",
    "query_str3 = ' or (RestaurantLessThan20 == \"4~8\" and income.isin(@less_than_50k))'\n",
    "\n",
    "final_query = query_str1+query_str2+query_str3\n",
    "\n",
    "data_set1 = data.query(final_query)\n",
    " \n",
    "# All others ==> NOT in data_set1\n",
    "data_set2 = data[~data.index.isin(data_set1.index)]\n",
    "\n",
    "#Calculate mean of data_set1 & data_set2\n",
    "mean_data_set1 = data_set1['Y'].mean()\n",
    "mean_data_set2 = data_set2['Y'].mean()\n",
    "\n",
    "#Calculate percentage\n",
    "percentage_mean_data_set1 = mean_data_set1*100\n",
    "percentage_mean_data_set2 = mean_data_set2*100\n",
    "\n",
    "print(f\"Acceptance rate for data_set1  : {Style.BRIGHT}{Fore.RED}{percentage_mean_data_set1:.2f}%{Style.RESET_ALL}\")\n",
    "print(f\"Acceptance rate for All others  : {Style.BRIGHT}{Fore.BLUE}{percentage_mean_data_set2:.2f}%{Style.RESET_ALL}\")"
   ]
  },
  {
   "cell_type": "markdown",
   "metadata": {
    "id": "v3fL3QkO_qRK"
   },
   "source": [
    "7.  Based on these observations, what do you hypothesize about drivers who accepted the bar coupons?"
   ]
  },
  {
   "cell_type": "code",
   "execution_count": 456,
   "metadata": {
    "id": "Y48naDFh_qRL"
   },
   "outputs": [
    {
     "name": "stdout",
     "output_type": "stream",
     "text": [
      "\u001b[1m\u001b[34m########## Hypothesize about drivers who accepted the bar coupons ##########\u001b[0m\n",
      "\u001b[1m\u001b[36m1. Coupon rejection is more than coupon acceptance. \u001b[0m\n",
      "\u001b[1m\u001b[36m2. Coupon acceptance rate is 56.8% , out of which 41.00% is the Bar coupon acceptance. \u001b[0m\n",
      "\u001b[1m\u001b[36m3. Drivers over the age of 25 visit bars more frequently (more than once a month) compared to younger age groups.. \u001b[0m\n",
      "\u001b[1m\u001b[36m4. Drivers with no kids and not in the occupation of farming, fishing, or forestry visit bars more frequently than parents in others.. \u001b[0m\n",
      "\u001b[1m\u001b[36m5. Drivers with age <30 and income <50k , with passanger having no kids , not widowed , visits bar more frequently and visits restaurant < $20 4-8 times a months.. \u001b[0m\n"
     ]
    }
   ],
   "source": [
    "print(f\"{Style.BRIGHT}{Fore.BLUE}########## Hypothesize about drivers who accepted the bar coupons ##########{Style.RESET_ALL}\")\n",
    "print(f\"{Style.BRIGHT}{Fore.CYAN}1. Coupon rejection is more than coupon acceptance. {Style.RESET_ALL}\")\n",
    "print(f\"{Style.BRIGHT}{Fore.CYAN}2. Coupon acceptance rate is 56.8% , out of which 41.00% is the Bar coupon acceptance. {Style.RESET_ALL}\")\n",
    "print(f\"{Style.BRIGHT}{Fore.CYAN}3. Drivers over the age of 25 visit bars more frequently (more than once a month) compared to younger age groups.. {Style.RESET_ALL}\")\n",
    "print(f\"{Style.BRIGHT}{Fore.CYAN}4. Drivers with no kids and not in the occupation of farming, fishing, or forestry visit bars more frequently than parents in others.. {Style.RESET_ALL}\")\n",
    "print(f\"{Style.BRIGHT}{Fore.CYAN}5. Drivers with age <30 and income <50k , with passanger having no kids , not widowed , visits bar more frequently and visits restaurant < $20 4-8 times a months.. {Style.RESET_ALL}\")"
   ]
  },
  {
   "cell_type": "markdown",
   "metadata": {
    "id": "r4Hu1zOb_qRL"
   },
   "source": [
    "### Independent Investigation\n",
    "\n",
    "Using the bar coupon example as motivation, you are to explore one of the other coupon groups and try to determine the characteristics of passengers who accept the coupons.  "
   ]
  },
  {
   "cell_type": "code",
   "execution_count": 414,
   "metadata": {
    "id": "0c71cQhu_qRL"
   },
   "outputs": [
    {
     "name": "stdout",
     "output_type": "stream",
     "text": [
      "Coffee coupon acceptance rate: 49.92%\n"
     ]
    }
   ],
   "source": [
    "#What proportion of coffee coupons were accepted?\n",
    "# Filter only coffee coupon data\n",
    "coffee_data = data[data['coupon'] == 'Coffee House']\n",
    "\n",
    "# Calculate acceptance proportion\n",
    "coffee_acceptance_rate = coffee_data['Y'].mean()\n",
    "\n",
    "# Convert to percentage\n",
    "coffee_acceptance_percent = coffee_acceptance_rate * 100\n",
    "\n",
    "print(f\"Coffee coupon acceptance rate: {coffee_acceptance_percent:.2f}%\")"
   ]
  },
  {
   "cell_type": "code",
   "execution_count": 444,
   "metadata": {
    "id": "QEsBkvIN_qRL"
   },
   "outputs": [
    {
     "data": {
      "image/png": "[encoded data removed]",
      "text/plain": [
       "<Figure size 500x400 with 1 Axes>"
      ]
     },
     "metadata": {},
     "output_type": "display_data"
    }
   ],
   "source": [
    "# Group by weather  and temperature, calculate acceptance rate\n",
    "temp_weather_acceptance = data.groupby(['temperature', 'weather'])['Y'].mean().reset_index()\n",
    "\n",
    "# Rename column for clarity\n",
    "temp_weather_acceptance.rename(columns={'Y': 'acceptance_rate'}, inplace=True)\n",
    "\n",
    "plt.figure(figsize=(5, 4))\n",
    "sns.barplot(x='weather', y='acceptance_rate', hue='temperature', data=temp_weather_acceptance)\n",
    "plt.title('Acceptance Rate by weather and temperature')\n",
    "plt.ylabel('Acceptance Rate')\n",
    "plt.xlabel('Weather')\n",
    "plt.ylim(0, 1)\n",
    "plt.tight_layout()\n",
    "plt.show()"
   ]
  },
  {
   "cell_type": "code",
   "execution_count": 462,
   "metadata": {},
   "outputs": [
    {
     "data": {
      "image/png": "[encoded data removed]",
      "text/plain": [
       "<Figure size 1000x600 with 1 Axes>"
      ]
     },
     "metadata": {},
     "output_type": "display_data"
    }
   ],
   "source": [
    "# Group by age and maritalStatus, calculate acceptance rate\n",
    "age_marital_acceptance = data.groupby(['age', 'maritalStatus'])['Y'].mean().reset_index()\n",
    "\n",
    "# Rename column for clarity\n",
    "age_marital_acceptance.rename(columns={'Y': 'acceptance_rate'}, inplace=True)\n",
    "\n",
    "plt.figure(figsize=(10, 6))\n",
    "sns.barplot(x='age', y='acceptance_rate', hue='maritalStatus', data=age_marital_acceptance)\n",
    "plt.title('Acceptance Rate by Age and Marital Status')\n",
    "plt.ylabel('Acceptance Rate')\n",
    "plt.ylim(0, 1)\n",
    "plt.tight_layout()\n",
    "plt.show()"
   ]
  },
  {
   "cell_type": "code",
   "execution_count": 460,
   "metadata": {},
   "outputs": [
    {
     "data": {
      "image/png": "[encoded data removed]",
      "text/plain": [
       "<Figure size 1000x600 with 1 Axes>"
      ]
     },
     "metadata": {},
     "output_type": "display_data"
    }
   ],
   "source": [
    "#how destination, gender, age, and coupon expiration impact coupon acceptance\n",
    "acceptance = data.groupby(['destination', 'gender', 'age', 'expiration'])['Y'].mean().reset_index()\n",
    "acceptance.rename(columns={'Y': 'acceptance_rate'}, inplace=True)\n",
    "\n",
    "plt.figure(figsize=(10, 6))\n",
    "sns.barplot(x='destination', y='acceptance_rate', hue='gender', data=acceptance)\n",
    "plt.title('Coupon Acceptance by Destination and Gender')\n",
    "plt.ylabel('Acceptance Rate')\n",
    "plt.ylim(0, 1)\n",
    "plt.tight_layout()\n",
    "plt.show()"
   ]
  },
  {
   "cell_type": "code",
   "execution_count": 468,
   "metadata": {},
   "outputs": [
    {
     "name": "stdout",
     "output_type": "stream",
     "text": [
      "\u001b[1m\u001b[34m########## Hypothesize about drivers who accepted the coffee coupons ##########\u001b[0m\n",
      "\u001b[1m\u001b[36m1. Coffee coupon acceptance rate is 49.92%. \u001b[0m\n",
      "\u001b[1m\u001b[36m2. Sunny day with temperature of 30 F has more acceptance. \u001b[0m\n",
      "\u001b[1m\u001b[36m3. 26 years old singles and 36 years old unmarried partner has more acceptance of coffee coupons. \u001b[0m\n",
      "\u001b[1m\u001b[36m4. Male driving to non urgent destination has more acceptance than others. \u001b[0m\n"
     ]
    }
   ],
   "source": [
    "print(f\"{Style.BRIGHT}{Fore.BLUE}########## Hypothesize about drivers who accepted the coffee coupons ##########{Style.RESET_ALL}\")\n",
    "print(f\"{Style.BRIGHT}{Fore.CYAN}1. Coffee coupon acceptance rate is 49.92%. {Style.RESET_ALL}\")\n",
    "print(f\"{Style.BRIGHT}{Fore.CYAN}2. Sunny day with temperature of 30 F has more acceptance. {Style.RESET_ALL}\")\n",
    "print(f\"{Style.BRIGHT}{Fore.CYAN}3. 26 years old singles and 36 years old unmarried partner has more acceptance of coffee coupons. {Style.RESET_ALL}\")\n",
    "print(f\"{Style.BRIGHT}{Fore.CYAN}4. Male driving to non urgent destination has more acceptance than others. {Style.RESET_ALL}\")\n"
   ]
  },
  {
   "cell_type": "code",
   "execution_count": null,
   "metadata": {},
   "outputs": [],
   "source": []
  }
 ],
 "metadata": {
  "colab": {
   "provenance": []
  },
  "kernelspec": {
   "display_name": "Python [conda env:base] *",
   "language": "python",
   "name": "conda-base-py"
  },
  "language_info": {
   "codemirror_mode": {
    "name": "ipython",
    "version": 3
   },
   "file_extension": ".py",
   "mimetype": "text/x-python",
   "name": "python",
   "nbconvert_exporter": "python",
   "pygments_lexer": "ipython3",
   "version": "3.12.7"
  }
 },
 "nbformat": 4,
 "nbformat_minor": 4
}
